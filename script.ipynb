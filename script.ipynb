{
 "cells": [
  {
   "cell_type": "code",
   "execution_count": 23,
   "id": "initial_id",
   "metadata": {
    "collapsed": true,
    "ExecuteTime": {
     "end_time": "2024-04-03T07:21:28.499694Z",
     "start_time": "2024-04-03T07:21:28.486565Z"
    }
   },
   "outputs": [
    {
     "data": {
      "text/plain": "(torch.Size([8, 256, 64]), torch.Size([256, 8, 8]))"
     },
     "execution_count": 23,
     "metadata": {},
     "output_type": "execute_result"
    }
   ],
   "source": [
    "import torch\n",
    "inputs = torch.randn(8, 256, 64)\n",
    "att = torch.nn.MultiheadAttention(64, 2, 0.1)\n",
    "outputs, weights = att(inputs, inputs, inputs)\n",
    "outputs.shape, weights.shape"
   ]
  },
  {
   "cell_type": "code",
   "outputs": [
    {
     "data": {
      "text/plain": "(torch.Size([1, 256, 64]), torch.Size([256, 1, 1]))"
     },
     "execution_count": 22,
     "metadata": {},
     "output_type": "execute_result"
    }
   ],
   "source": [
    "import torch\n",
    "import torch.nn as nn\n",
    "import torch.nn.functional as F\n",
    "\n",
    "# 假设的嵌入向量\n",
    "text_embedding = torch.randn(256, 64)  # (batch_size, embed_size)\n",
    "video_embedding = torch.randn(256, 64)  # (batch_size, embed_size)\n",
    "\n",
    "# 调整嵌入向量以匹配 MultiheadAttention 输入\n",
    "text_embedding = text_embedding.unsqueeze(0)  # (1, batch_size, embed_size)\n",
    "video_embedding = video_embedding.unsqueeze(0)  # (1, batch_size, embed_size)\n",
    "\n",
    "# 使用 MultiheadAttention\n",
    "att = torch.nn.MultiheadAttention(64, 4, 0.1)\n",
    "output, weights = att(text_embedding, video_embedding, video_embedding)\n",
    "output.shape, weights.shape"
   ],
   "metadata": {
    "collapsed": false,
    "ExecuteTime": {
     "end_time": "2024-04-03T07:18:30.695255Z",
     "start_time": "2024-04-03T07:18:30.688105Z"
    }
   },
   "id": "8e5e723fbb2d487a",
   "execution_count": 22
  },
  {
   "cell_type": "code",
   "outputs": [],
   "source": [],
   "metadata": {
    "collapsed": false
   },
   "id": "17c3ca3a23e20ab8"
  },
  {
   "cell_type": "markdown",
   "source": [],
   "metadata": {
    "collapsed": false
   },
   "id": "53cf4eb8d1a7e853"
  }
 ],
 "metadata": {
  "kernelspec": {
   "display_name": "Python 3",
   "language": "python",
   "name": "python3"
  },
  "language_info": {
   "codemirror_mode": {
    "name": "ipython",
    "version": 2
   },
   "file_extension": ".py",
   "mimetype": "text/x-python",
   "name": "python",
   "nbconvert_exporter": "python",
   "pygments_lexer": "ipython2",
   "version": "2.7.6"
  }
 },
 "nbformat": 4,
 "nbformat_minor": 5
}
