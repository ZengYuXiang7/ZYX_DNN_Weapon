{
 "cells": [
  {
   "cell_type": "code",
   "execution_count": 13,
   "id": "initial_id",
   "metadata": {
    "collapsed": true,
    "ExecuteTime": {
     "end_time": "2024-04-03T06:43:51.831191Z",
     "start_time": "2024-04-03T06:43:51.807525Z"
    }
   },
   "outputs": [
    {
     "data": {
      "text/plain": "(torch.Size([256, 8, 64]), torch.Size([8, 256, 256]))"
     },
     "execution_count": 13,
     "metadata": {},
     "output_type": "execute_result"
    }
   ],
   "source": [
    "import torch\n",
    "inputs = torch.randn(256, 8, 64)\n",
    "att = torch.nn.MultiheadAttention(64, 2, 0.1)\n",
    "outputs, weights = att(inputs, inputs, inputs)\n",
    "outputs.shape, weights.shape"
   ]
  },
  {
   "cell_type": "code",
   "outputs": [],
   "source": [],
   "metadata": {
    "collapsed": false,
    "ExecuteTime": {
     "end_time": "2024-04-03T06:43:44.682734Z",
     "start_time": "2024-04-03T06:43:44.677560Z"
    }
   },
   "id": "8e5e723fbb2d487a",
   "execution_count": 10
  },
  {
   "cell_type": "code",
   "outputs": [],
   "source": [],
   "metadata": {
    "collapsed": false
   },
   "id": "17c3ca3a23e20ab8"
  }
 ],
 "metadata": {
  "kernelspec": {
   "display_name": "Python 3",
   "language": "python",
   "name": "python3"
  },
  "language_info": {
   "codemirror_mode": {
    "name": "ipython",
    "version": 2
   },
   "file_extension": ".py",
   "mimetype": "text/x-python",
   "name": "python",
   "nbconvert_exporter": "python",
   "pygments_lexer": "ipython2",
   "version": "2.7.6"
  }
 },
 "nbformat": 4,
 "nbformat_minor": 5
}
