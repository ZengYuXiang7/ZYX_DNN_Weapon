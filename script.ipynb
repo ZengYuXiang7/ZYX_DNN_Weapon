{
 "cells": [
  {
   "metadata": {
    "ExecuteTime": {
     "end_time": "2024-05-25T10:25:57.093987Z",
     "start_time": "2024-05-25T10:25:57.091141Z"
    }
   },
   "cell_type": "code",
   "source": [
    "zhengzhi = 70\n",
    "zhuanyeke = 125\n",
    "shuxue = 120\n",
    "yingyu = 70\n",
    "zhengzhi + zhuanyeke + shuxue + yingyu - 8 "
   ],
   "id": "4498522bf398e44d",
   "outputs": [
    {
     "data": {
      "text/plain": [
       "377"
      ]
     },
     "execution_count": 36,
     "metadata": {},
     "output_type": "execute_result"
    }
   ],
   "execution_count": 36
  },
  {
   "metadata": {},
   "cell_type": "code",
   "outputs": [],
   "execution_count": null,
   "source": "",
   "id": "11abd0eb9a7faff2"
  }
 ],
 "metadata": {
  "kernelspec": {
   "display_name": "Python 3",
   "language": "python",
   "name": "python3"
  },
  "language_info": {
   "codemirror_mode": {
    "name": "ipython",
    "version": 2
   },
   "file_extension": ".py",
   "mimetype": "text/x-python",
   "name": "python",
   "nbconvert_exporter": "python",
   "pygments_lexer": "ipython2",
   "version": "2.7.6"
  }
 },
 "nbformat": 4,
 "nbformat_minor": 5
}
