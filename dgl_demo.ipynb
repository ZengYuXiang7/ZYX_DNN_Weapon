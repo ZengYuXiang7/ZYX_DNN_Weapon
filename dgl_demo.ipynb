{
 "cells": [
  {
   "cell_type": "code",
   "outputs": [
    {
     "data": {
      "text/plain": "Graph(num_nodes=100, num_edges=300,\n      ndata_schemes={}\n      edata_schemes={})"
     },
     "execution_count": 33,
     "metadata": {},
     "output_type": "execute_result"
    }
   ],
   "source": [
    "import torch\n",
    "import dgl \n",
    "num_nodes, num_edges = 100, 200\n",
    "src_nodes = torch.randint(0, num_nodes, (num_edges,))\n",
    "dst_nodes = torch.randint(0, num_nodes, (num_edges,))\n",
    "graph = dgl.graph((src_nodes, dst_nodes))\n",
    "graph = dgl.add_self_loop(graph)\n",
    "graph"
   ],
   "metadata": {
    "collapsed": false,
    "ExecuteTime": {
     "end_time": "2024-03-28T12:50:51.307711Z",
     "start_time": "2024-03-28T12:50:51.301711Z"
    }
   },
   "id": "d7ad27c4c4248112",
   "execution_count": 33
  },
  {
   "cell_type": "code",
   "outputs": [
    {
     "data": {
      "text/plain": "100"
     },
     "execution_count": 48,
     "metadata": {},
     "output_type": "execute_result"
    }
   ],
   "source": [
    "graph.num_nodes()"
   ],
   "metadata": {
    "collapsed": false,
    "ExecuteTime": {
     "end_time": "2024-03-28T13:42:49.841417Z",
     "start_time": "2024-03-28T13:42:49.836646Z"
    }
   },
   "id": "fbfa41476272a279",
   "execution_count": 48
  },
  {
   "cell_type": "code",
   "outputs": [
    {
     "data": {
      "text/plain": "Graph(num_nodes=100, num_edges=300,\n      ndata_schemes={'features': Scheme(shape=(128,), dtype=torch.float32)}\n      edata_schemes={})"
     },
     "execution_count": 34,
     "metadata": {},
     "output_type": "execute_result"
    }
   ],
   "source": [
    "graph.ndata['features'] = torch.randn(graph.number_of_nodes(), 128)\n",
    "graph"
   ],
   "metadata": {
    "collapsed": false,
    "ExecuteTime": {
     "end_time": "2024-03-28T12:50:51.316796Z",
     "start_time": "2024-03-28T12:50:51.308320Z"
    }
   },
   "id": "2a50792d7f67c628",
   "execution_count": 34
  },
  {
   "cell_type": "code",
   "outputs": [
    {
     "data": {
      "text/plain": "tensor([ 0,  1,  2,  3,  4,  5,  6,  7,  8,  9, 10, 11, 12, 13, 14, 15, 16, 17,\n        18, 19, 20, 21, 22, 23, 24, 25, 26, 27, 28, 29, 30, 31, 32, 33, 34, 35,\n        36, 37, 38, 39, 40, 41, 42, 43, 44, 45, 46, 47, 48, 49, 50, 51, 52, 53,\n        54, 55, 56, 57, 58, 59, 60, 61, 62, 63, 64, 65, 66, 67, 68, 69, 70, 71,\n        72, 73, 74, 75, 76, 77, 78, 79, 80, 81, 82, 83, 84, 85, 86, 87, 88, 89,\n        90, 91, 92, 93, 94, 95, 96, 97, 98, 99])"
     },
     "execution_count": 35,
     "metadata": {},
     "output_type": "execute_result"
    }
   ],
   "source": [
    "graph.nodes()"
   ],
   "metadata": {
    "collapsed": false,
    "ExecuteTime": {
     "end_time": "2024-03-28T12:50:51.336097Z",
     "start_time": "2024-03-28T12:50:51.313324Z"
    }
   },
   "id": "bb92ce6a4214a72",
   "execution_count": 35
  },
  {
   "cell_type": "code",
   "outputs": [
    {
     "data": {
      "text/plain": "Graph(num_nodes=3, num_edges=3,\n      ndata_schemes={'features': Scheme(shape=(128,), dtype=torch.float32), '_ID': Scheme(shape=(), dtype=torch.int64)}\n      edata_schemes={'_ID': Scheme(shape=(), dtype=torch.int64)})"
     },
     "execution_count": 36,
     "metadata": {},
     "output_type": "execute_result"
    }
   ],
   "source": [
    "dgl.node_subgraph(graph, [1, 3, 5])"
   ],
   "metadata": {
    "collapsed": false,
    "ExecuteTime": {
     "end_time": "2024-03-28T12:50:51.343545Z",
     "start_time": "2024-03-28T12:50:51.318394Z"
    }
   },
   "id": "a5f9bae7b27ae90e",
   "execution_count": 36
  },
  {
   "cell_type": "code",
   "outputs": [
    {
     "name": "stdout",
     "output_type": "stream",
     "text": [
      "(tensor([0, 1, 2]), tensor([0, 1, 2]))\n"
     ]
    }
   ],
   "source": [
    "print(dgl.node_subgraph(graph, [1, 3, 5]).edges())"
   ],
   "metadata": {
    "collapsed": false,
    "ExecuteTime": {
     "end_time": "2024-03-28T12:50:51.343846Z",
     "start_time": "2024-03-28T12:50:51.323140Z"
    }
   },
   "id": "3728f46f44eb1420",
   "execution_count": 37
  },
  {
   "cell_type": "code",
   "outputs": [
    {
     "data": {
      "text/plain": "(tensor([0]),\n tensor([54, 83, 45,  8]),\n tensor([71, 84, 14, 37, 74]),\n tensor([50, 23, 42, 46, 61, 91, 47]),\n tensor([78, 22, 51, 80, 15, 86, 16, 52, 90, 21, 34,  6, 31]),\n tensor([58, 11, 26,  1, 18, 93, 59, 96, 82,  2, 72, 55, 88,  7, 68, 24]),\n tensor([94, 35, 56, 92, 48, 81, 10, 27, 29, 77, 87, 76, 28, 49, 98, 40, 63, 62,\n         67, 75, 44, 38,  3]),\n tensor([95, 25, 73, 60, 64,  5, 12, 65, 53, 99]),\n tensor([57, 19, 33]),\n tensor([17, 70]))"
     },
     "execution_count": 38,
     "metadata": {},
     "output_type": "execute_result"
    }
   ],
   "source": [
    "dgl.bfs_nodes_generator(graph, [0])"
   ],
   "metadata": {
    "collapsed": false,
    "ExecuteTime": {
     "end_time": "2024-03-28T12:50:51.344038Z",
     "start_time": "2024-03-28T12:50:51.327903Z"
    }
   },
   "id": "87265aa60d06b014",
   "execution_count": 38
  },
  {
   "cell_type": "code",
   "outputs": [
    {
     "data": {
      "text/plain": "(tensor([1]),\n tensor([27, 29]),\n tensor([12, 51, 77, 84]),\n tensor([24,  8, 26,  0, 92, 42]),\n tensor([40, 16,  3, 74, 81, 10, 54, 83, 45, 34, 86]),\n tensor([96, 82,  2, 37, 60, 64, 52,  5, 71, 14, 59]),\n tensor([28, 49, 55, 98, 93, 63, 31, 50, 47, 33, 62, 72, 23, 46, 61, 91, 76]),\n tensor([68, 53, 22, 87, 88,  7, 78,  6, 17, 70, 80, 15, 90, 21]),\n tensor([65, 73, 67, 75, 44, 38, 58, 11, 18]),\n tensor([19, 99, 94, 35, 56, 48]),\n tensor([95, 25]),\n tensor([57]))"
     },
     "execution_count": 39,
     "metadata": {},
     "output_type": "execute_result"
    }
   ],
   "source": [
    "dgl.bfs_nodes_generator(graph, [1])"
   ],
   "metadata": {
    "collapsed": false,
    "ExecuteTime": {
     "end_time": "2024-03-28T12:50:51.344399Z",
     "start_time": "2024-03-28T12:50:51.332654Z"
    }
   },
   "id": "c1313f5370b915d0",
   "execution_count": 39
  },
  {
   "cell_type": "code",
   "outputs": [
    {
     "data": {
      "text/plain": "torch.Size([1, 128])"
     },
     "execution_count": 40,
     "metadata": {},
     "output_type": "execute_result"
    }
   ],
   "source": [
    "dgl.readout_nodes(graph, 'features', op=\"mean\").shape"
   ],
   "metadata": {
    "collapsed": false,
    "ExecuteTime": {
     "end_time": "2024-03-28T12:50:51.372785Z",
     "start_time": "2024-03-28T12:50:51.337077Z"
    }
   },
   "id": "4f8590b027317e64",
   "execution_count": 40
  },
  {
   "cell_type": "code",
   "outputs": [
    {
     "data": {
      "text/plain": "Graph(num_nodes=100, num_edges=300,\n      ndata_schemes={'features': Scheme(shape=(128,), dtype=torch.float32)}\n      edata_schemes={})"
     },
     "execution_count": 47,
     "metadata": {},
     "output_type": "execute_result"
    }
   ],
   "source": [
    "dgl.khop_graph(graph, 1)"
   ],
   "metadata": {
    "collapsed": false,
    "ExecuteTime": {
     "end_time": "2024-03-28T12:51:44.069614Z",
     "start_time": "2024-03-28T12:51:44.061154Z"
    }
   },
   "id": "73dc2d6150a35859",
   "execution_count": 47
  },
  {
   "cell_type": "code",
   "outputs": [
    {
     "data": {
      "text/plain": "tensor([0])"
     },
     "execution_count": 50,
     "metadata": {},
     "output_type": "execute_result"
    }
   ],
   "source": [
    "dgl.khop_in_subgraph(graph, [1], 1)"
   ],
   "metadata": {
    "collapsed": false,
    "ExecuteTime": {
     "end_time": "2024-03-28T14:04:09.122244Z",
     "start_time": "2024-03-28T14:04:09.113579Z"
    }
   },
   "id": "6c37e87e40c03008",
   "execution_count": 50
  },
  {
   "cell_type": "code",
   "outputs": [],
   "source": [],
   "metadata": {
    "collapsed": false,
    "ExecuteTime": {
     "end_time": "2024-03-28T12:50:51.385328Z",
     "start_time": "2024-03-28T12:50:51.376849Z"
    }
   },
   "id": "e6dff223ccd05536",
   "execution_count": 42
  }
 ],
 "metadata": {
  "kernelspec": {
   "display_name": "Python 3",
   "language": "python",
   "name": "python3"
  },
  "language_info": {
   "codemirror_mode": {
    "name": "ipython",
    "version": 2
   },
   "file_extension": ".py",
   "mimetype": "text/x-python",
   "name": "python",
   "nbconvert_exporter": "python",
   "pygments_lexer": "ipython2",
   "version": "2.7.6"
  }
 },
 "nbformat": 4,
 "nbformat_minor": 5
}
