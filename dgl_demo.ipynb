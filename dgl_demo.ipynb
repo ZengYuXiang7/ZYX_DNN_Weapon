{
 "cells": [
  {
   "cell_type": "code",
   "outputs": [
    {
     "data": {
      "text/plain": "Graph(num_nodes=100, num_edges=300,\n      ndata_schemes={}\n      edata_schemes={})"
     },
     "execution_count": 1,
     "metadata": {},
     "output_type": "execute_result"
    }
   ],
   "source": [
    "import torch\n",
    "import dgl \n",
    "num_nodes, num_edges = 100, 200\n",
    "src_nodes = torch.randint(0, num_nodes, (num_edges,))\n",
    "dst_nodes = torch.randint(0, num_nodes, (num_edges,))\n",
    "graph = dgl.graph((src_nodes, dst_nodes))\n",
    "graph = dgl.add_self_loop(graph)\n",
    "graph"
   ],
   "metadata": {
    "collapsed": false,
    "ExecuteTime": {
     "end_time": "2024-05-03T14:53:05.928357Z",
     "start_time": "2024-05-03T14:53:04.240449Z"
    }
   },
   "id": "d7ad27c4c4248112",
   "execution_count": 1
  },
  {
   "cell_type": "code",
   "outputs": [
    {
     "data": {
      "text/plain": "100"
     },
     "execution_count": 2,
     "metadata": {},
     "output_type": "execute_result"
    }
   ],
   "source": [
    "graph.num_nodes()"
   ],
   "metadata": {
    "collapsed": false,
    "ExecuteTime": {
     "end_time": "2024-05-03T14:53:05.929145Z",
     "start_time": "2024-05-03T14:53:05.925082Z"
    }
   },
   "id": "fbfa41476272a279",
   "execution_count": 2
  },
  {
   "cell_type": "code",
   "outputs": [
    {
     "data": {
      "text/plain": "Graph(num_nodes=100, num_edges=300,\n      ndata_schemes={'features': Scheme(shape=(128,), dtype=torch.float32)}\n      edata_schemes={})"
     },
     "execution_count": 3,
     "metadata": {},
     "output_type": "execute_result"
    }
   ],
   "source": [
    "graph.ndata['features'] = torch.randn(graph.number_of_nodes(), 128)\n",
    "graph"
   ],
   "metadata": {
    "collapsed": false,
    "ExecuteTime": {
     "end_time": "2024-05-03T14:53:05.934270Z",
     "start_time": "2024-05-03T14:53:05.929047Z"
    }
   },
   "id": "2a50792d7f67c628",
   "execution_count": 3
  },
  {
   "cell_type": "code",
   "outputs": [
    {
     "data": {
      "text/plain": "tensor([ 0,  1,  2,  3,  4,  5,  6,  7,  8,  9, 10, 11, 12, 13, 14, 15, 16, 17,\n        18, 19, 20, 21, 22, 23, 24, 25, 26, 27, 28, 29, 30, 31, 32, 33, 34, 35,\n        36, 37, 38, 39, 40, 41, 42, 43, 44, 45, 46, 47, 48, 49, 50, 51, 52, 53,\n        54, 55, 56, 57, 58, 59, 60, 61, 62, 63, 64, 65, 66, 67, 68, 69, 70, 71,\n        72, 73, 74, 75, 76, 77, 78, 79, 80, 81, 82, 83, 84, 85, 86, 87, 88, 89,\n        90, 91, 92, 93, 94, 95, 96, 97, 98, 99])"
     },
     "execution_count": 14,
     "metadata": {},
     "output_type": "execute_result"
    }
   ],
   "source": [
    "graph.nodes()"
   ],
   "metadata": {
    "collapsed": false,
    "ExecuteTime": {
     "end_time": "2024-05-03T14:58:23.145539Z",
     "start_time": "2024-05-03T14:58:23.139063Z"
    }
   },
   "id": "bb92ce6a4214a72",
   "execution_count": 14
  },
  {
   "cell_type": "code",
   "outputs": [
    {
     "data": {
      "text/plain": "Graph(num_nodes=3, num_edges=3,\n      ndata_schemes={'features': Scheme(shape=(128,), dtype=torch.float32), '_ID': Scheme(shape=(), dtype=torch.int64)}\n      edata_schemes={'_ID': Scheme(shape=(), dtype=torch.int64)})"
     },
     "execution_count": 15,
     "metadata": {},
     "output_type": "execute_result"
    }
   ],
   "source": [
    "dgl.node_subgraph(graph, [1, 3, 5])"
   ],
   "metadata": {
    "collapsed": false,
    "ExecuteTime": {
     "end_time": "2024-05-03T14:58:23.559539Z",
     "start_time": "2024-05-03T14:58:23.554882Z"
    }
   },
   "id": "a5f9bae7b27ae90e",
   "execution_count": 15
  },
  {
   "cell_type": "code",
   "outputs": [
    {
     "name": "stdout",
     "output_type": "stream",
     "text": [
      "(tensor([0, 1, 2]), tensor([0, 1, 2]))\n"
     ]
    }
   ],
   "source": [
    "print(dgl.node_subgraph(graph, [1, 3, 5]).edges())"
   ],
   "metadata": {
    "collapsed": false,
    "ExecuteTime": {
     "end_time": "2024-05-03T14:58:24.398692Z",
     "start_time": "2024-05-03T14:58:24.394769Z"
    }
   },
   "id": "3728f46f44eb1420",
   "execution_count": 16
  },
  {
   "cell_type": "code",
   "outputs": [
    {
     "data": {
      "text/plain": "(tensor([0]),\n tensor([33, 65, 96, 97]),\n tensor([ 1, 72, 44, 47, 89, 99,  6, 18]),\n tensor([24, 62, 50, 80,  3,  5, 94, 83, 70, 41, 17,  2, 84]),\n tensor([32, 75, 92, 81, 43, 11, 90, 46, 82, 39, 13, 42, 78, 28, 77,  8, 52, 63,\n         29]),\n tensor([91, 64, 40, 73, 58, 98, 48, 21,  9, 53, 88, 55, 87, 14, 59, 54, 67, 60]),\n tensor([22, 56, 76, 36, 31, 10, 27, 35, 85, 12, 95, 37]),\n tensor([19, 49, 68, 86, 69]),\n tensor([ 4, 26, 25]),\n tensor([93]))"
     },
     "execution_count": 17,
     "metadata": {},
     "output_type": "execute_result"
    }
   ],
   "source": [
    "dgl.bfs_nodes_generator(graph, [0])"
   ],
   "metadata": {
    "collapsed": false,
    "ExecuteTime": {
     "end_time": "2024-05-03T14:58:24.950370Z",
     "start_time": "2024-05-03T14:58:24.944412Z"
    }
   },
   "id": "87265aa60d06b014",
   "execution_count": 17
  },
  {
   "cell_type": "code",
   "outputs": [
    {
     "data": {
      "text/plain": "(tensor([1]),\n tensor([24]),\n tensor([83, 32]),\n tensor([78, 28, 33, 91, 64]),\n tensor([58, 87, 14, 22, 92, 56]),\n tensor([53, 43, 12, 40, 99,  0, 41,  6, 94]),\n tensor([98, 72, 48, 21,  9, 17, 86, 69, 70, 65, 96, 97,  3,  2, 13, 42]),\n tensor([76, 62, 50, 88, 36, 80, 31, 10, 27, 77,  8, 73, 26, 39, 25, 89, 55, 44,\n         47, 18, 82, 52, 84, 63, 11]),\n tensor([75, 81, 90, 46, 85, 19,  5, 49, 68, 59, 93, 35, 29, 54]),\n tensor([ 4, 67, 60, 95]),\n tensor([37]))"
     },
     "execution_count": 22,
     "metadata": {},
     "output_type": "execute_result"
    }
   ],
   "source": [
    "dgl.bfs_nodes_generator(graph, [1])"
   ],
   "metadata": {
    "collapsed": false,
    "ExecuteTime": {
     "end_time": "2024-05-03T14:59:08.245855Z",
     "start_time": "2024-05-03T14:59:08.239436Z"
    }
   },
   "id": "c1313f5370b915d0",
   "execution_count": 22
  },
  {
   "cell_type": "code",
   "outputs": [
    {
     "data": {
      "text/plain": "torch.Size([1, 128])"
     },
     "execution_count": 9,
     "metadata": {},
     "output_type": "execute_result"
    }
   ],
   "source": [
    "dgl.readout_nodes(graph, 'features', op=\"mean\").shape"
   ],
   "metadata": {
    "collapsed": false,
    "ExecuteTime": {
     "end_time": "2024-05-03T14:53:10.999070Z",
     "start_time": "2024-05-03T14:53:10.993416Z"
    }
   },
   "id": "4f8590b027317e64",
   "execution_count": 9
  },
  {
   "cell_type": "code",
   "outputs": [
    {
     "data": {
      "text/plain": "Graph(num_nodes=100, num_edges=300,\n      ndata_schemes={'features': Scheme(shape=(128,), dtype=torch.float32)}\n      edata_schemes={})"
     },
     "execution_count": 10,
     "metadata": {},
     "output_type": "execute_result"
    }
   ],
   "source": [
    "dgl.khop_graph(graph, 1)"
   ],
   "metadata": {
    "collapsed": false,
    "ExecuteTime": {
     "end_time": "2024-05-03T14:53:14.800561Z",
     "start_time": "2024-05-03T14:53:14.795154Z"
    }
   },
   "id": "73dc2d6150a35859",
   "execution_count": 10
  },
  {
   "cell_type": "code",
   "outputs": [
    {
     "data": {
      "text/plain": "tensor([0, 1, 2, 3, 4, 5, 6, 7])"
     },
     "execution_count": 11,
     "metadata": {},
     "output_type": "execute_result"
    }
   ],
   "source": [
    "newgraph, _ = dgl.khop_in_subgraph(graph, [99], 2)\n",
    "newgraph.nodes()"
   ],
   "metadata": {
    "collapsed": false,
    "ExecuteTime": {
     "end_time": "2024-05-03T14:53:22.245801Z",
     "start_time": "2024-05-03T14:53:22.240179Z"
    }
   },
   "id": "6c37e87e40c03008",
   "execution_count": 11
  },
  {
   "cell_type": "code",
   "outputs": [
    {
     "data": {
      "text/plain": "tensor([ 0, 15, 18, 20, 22, 91, 97, 99])"
     },
     "execution_count": 12,
     "metadata": {},
     "output_type": "execute_result"
    }
   ],
   "source": [
    "newgraph.ndata['_ID']"
   ],
   "metadata": {
    "collapsed": false,
    "ExecuteTime": {
     "end_time": "2024-05-03T14:53:23.044349Z",
     "start_time": "2024-05-03T14:53:23.041611Z"
    }
   },
   "id": "e6dff223ccd05536",
   "execution_count": 12
  },
  {
   "cell_type": "code",
   "outputs": [
    {
     "ename": "IndexError",
     "evalue": "index 8 is out of bounds for dimension 0 with size 8",
     "output_type": "error",
     "traceback": [
      "\u001B[0;31m---------------------------------------------------------------------------\u001B[0m",
      "\u001B[0;31mIndexError\u001B[0m                                Traceback (most recent call last)",
      "\u001B[0;32m<ipython-input-13-6c4396c3fb25>\u001B[0m in \u001B[0;36m<module>\u001B[0;34m\u001B[0m\n\u001B[0;32m----> 1\u001B[0;31m \u001B[0mnewgraph\u001B[0m\u001B[0;34m.\u001B[0m\u001B[0mndata\u001B[0m\u001B[0;34m[\u001B[0m\u001B[0;34m'_ID'\u001B[0m\u001B[0;34m]\u001B[0m\u001B[0;34m[\u001B[0m\u001B[0;36m8\u001B[0m\u001B[0;34m]\u001B[0m\u001B[0;34m\u001B[0m\u001B[0;34m\u001B[0m\u001B[0m\n\u001B[0m",
      "\u001B[0;31mIndexError\u001B[0m: index 8 is out of bounds for dimension 0 with size 8"
     ]
    }
   ],
   "source": [
    "newgraph.ndata['_ID'][8]"
   ],
   "metadata": {
    "collapsed": false,
    "ExecuteTime": {
     "end_time": "2024-05-03T14:53:23.718540Z",
     "start_time": "2024-05-03T14:53:23.678423Z"
    }
   },
   "id": "b60da0ca8b1d3a33",
   "execution_count": 13
  },
  {
   "cell_type": "code",
   "outputs": [],
   "source": [],
   "metadata": {
    "collapsed": false
   },
   "id": "70a3f26ec590b67f"
  }
 ],
 "metadata": {
  "kernelspec": {
   "display_name": "Python 3",
   "language": "python",
   "name": "python3"
  },
  "language_info": {
   "codemirror_mode": {
    "name": "ipython",
    "version": 2
   },
   "file_extension": ".py",
   "mimetype": "text/x-python",
   "name": "python",
   "nbconvert_exporter": "python",
   "pygments_lexer": "ipython2",
   "version": "2.7.6"
  }
 },
 "nbformat": 4,
 "nbformat_minor": 5
}
