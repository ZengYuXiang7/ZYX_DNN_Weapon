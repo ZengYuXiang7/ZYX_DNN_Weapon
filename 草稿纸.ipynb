{
 "cells": [
  {
   "cell_type": "code",
   "execution_count": 35,
   "id": "initial_id",
   "metadata": {
    "collapsed": true,
    "ExecuteTime": {
     "end_time": "2024-02-08T06:41:23.327935Z",
     "start_time": "2024-02-08T06:41:23.316726Z"
    }
   },
   "outputs": [],
   "source": [
    "import torch\n"
   ]
  },
  {
   "cell_type": "code",
   "outputs": [],
   "source": [
    "a = torch.nn.Embedding(339, 64)"
   ],
   "metadata": {
    "collapsed": false,
    "ExecuteTime": {
     "end_time": "2024-02-08T06:41:23.328160Z",
     "start_time": "2024-02-08T06:41:23.320193Z"
    }
   },
   "id": "e4932a6ebf675313",
   "execution_count": 36
  },
  {
   "cell_type": "code",
   "outputs": [
    {
     "data": {
      "text/plain": "torch.Size([339, 64])"
     },
     "execution_count": 37,
     "metadata": {},
     "output_type": "execute_result"
    }
   ],
   "source": [
    "a.weight.shape"
   ],
   "metadata": {
    "collapsed": false,
    "ExecuteTime": {
     "end_time": "2024-02-08T06:41:23.344380Z",
     "start_time": "2024-02-08T06:41:23.330701Z"
    }
   },
   "id": "2a2acb77acfd9108",
   "execution_count": 37
  },
  {
   "cell_type": "code",
   "outputs": [
    {
     "data": {
      "text/plain": "torch.Size([339, 64])"
     },
     "execution_count": 38,
     "metadata": {},
     "output_type": "execute_result"
    }
   ],
   "source": [
    "temp = a.weight.detach()\n",
    "temp.shape"
   ],
   "metadata": {
    "collapsed": false,
    "ExecuteTime": {
     "end_time": "2024-02-08T06:41:23.344837Z",
     "start_time": "2024-02-08T06:41:23.333574Z"
    }
   },
   "id": "7675876f1dc520a",
   "execution_count": 38
  },
  {
   "cell_type": "code",
   "outputs": [
    {
     "data": {
      "text/plain": "torch.Size([30, 64])"
     },
     "execution_count": 39,
     "metadata": {},
     "output_type": "execute_result"
    }
   ],
   "source": [
    "region1 = temp[:30,:]\n",
    "region1.shape"
   ],
   "metadata": {
    "collapsed": false,
    "ExecuteTime": {
     "end_time": "2024-02-08T06:41:23.345047Z",
     "start_time": "2024-02-08T06:41:23.336965Z"
    }
   },
   "id": "6569afc0b72fcec0",
   "execution_count": 39
  },
  {
   "cell_type": "code",
   "outputs": [
    {
     "data": {
      "text/plain": "torch.Size([308, 64])"
     },
     "execution_count": 40,
     "metadata": {},
     "output_type": "execute_result"
    }
   ],
   "source": [
    "region2 = temp[31:, :]\n",
    "region2.shape"
   ],
   "metadata": {
    "collapsed": false,
    "ExecuteTime": {
     "end_time": "2024-02-08T06:41:23.345455Z",
     "start_time": "2024-02-08T06:41:23.338883Z"
    }
   },
   "id": "7c8fd10b6dba528e",
   "execution_count": 40
  },
  {
   "cell_type": "code",
   "outputs": [],
   "source": [
    "region1 = [1, 3, 5, 339]\n",
    "context = [340, 500, 396]\n",
    "\n"
   ],
   "metadata": {
    "collapsed": false,
    "ExecuteTime": {
     "end_time": "2024-02-08T06:41:23.345683Z",
     "start_time": "2024-02-08T06:41:23.341971Z"
    }
   },
   "id": "a62c4c604a582dec",
   "execution_count": 40
  },
  {
   "cell_type": "code",
   "outputs": [],
   "source": [
    "# 1 ----  350 ----- 5 ----- 339\n",
    "# then have a edge between the node 1 with 5\n",
    "graph.find_path"
   ],
   "metadata": {
    "collapsed": false
   },
   "id": "a6407065dcef5702"
  }
 ],
 "metadata": {
  "kernelspec": {
   "display_name": "Python 3",
   "language": "python",
   "name": "python3"
  },
  "language_info": {
   "codemirror_mode": {
    "name": "ipython",
    "version": 2
   },
   "file_extension": ".py",
   "mimetype": "text/x-python",
   "name": "python",
   "nbconvert_exporter": "python",
   "pygments_lexer": "ipython2",
   "version": "2.7.6"
  }
 },
 "nbformat": 4,
 "nbformat_minor": 5
}
