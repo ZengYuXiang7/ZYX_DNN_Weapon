{
 "cells": [
  {
   "cell_type": "code",
   "execution_count": 12,
   "id": "initial_id",
   "metadata": {
    "collapsed": true,
    "ExecuteTime": {
     "end_time": "2024-01-30T14:48:28.304676Z",
     "start_time": "2024-01-30T14:48:28.301850Z"
    }
   },
   "outputs": [],
   "source": [
    "import torch\n",
    "import torch.nn as nn\n",
    "import torch.nn.functional as F\n",
    "\n",
    "class FactorizationMachine(nn.Module):\n",
    "    def __init__(self, dim, k):\n",
    "        \"\"\"\n",
    "        dim: 特征的数量\n",
    "        k: 隐向量的维度\n",
    "        \"\"\"\n",
    "        super(FactorizationMachine, self).__init__()\n",
    "        # 初始化全局偏置项\n",
    "        self.w0 = nn.Parameter(torch.zeros(1))\n",
    "        # 初始化一阶权重\n",
    "        self.w = nn.Parameter(torch.zeros(dim))\n",
    "        # 初始化隐向量\n",
    "        self.v = nn.Parameter(torch.randn(dim, k))\n",
    "\n",
    "    def forward(self, x):\n",
    "        \"\"\"\n",
    "        x: 一个batch的输入特征，维度为(batch_size, dim)\n",
    "        \"\"\"\n",
    "        # 计算线性部分\n",
    "        linear_part = self.w0 + torch.matmul(x, self.w)\n",
    "        \n",
    "        # 计算交互部分\n",
    "        inter_part1 = torch.matmul(x, self.v) ** 2\n",
    "        inter_part2 = torch.matmul(x ** 2, self.v ** 2)\n",
    "        interaction_part = 0.5 * torch.sum(inter_part1 - inter_part2, dim=1, keepdim=True)\n",
    "\n",
    "        # 模型输出\n",
    "        output = linear_part + interaction_part\n",
    "        output = output\n",
    "        return output\n",
    "\n"
   ]
  },
  {
   "cell_type": "code",
   "outputs": [
    {
     "name": "stdout",
     "output_type": "stream",
     "text": [
      "torch.Size([64, 64])\n"
     ]
    }
   ],
   "source": [
    "fm_model = FactorizationMachine(dim=10, k=64)\n",
    "bs = 64\n",
    "example_input = torch.rand(bs, 10)  # 假设有一个包含10个特征的样本\n",
    "output = fm_model(example_input)\n",
    "print(output.shape)"
   ],
   "metadata": {
    "collapsed": false,
    "ExecuteTime": {
     "end_time": "2024-01-30T14:59:49.107404Z",
     "start_time": "2024-01-30T14:59:49.102833Z"
    }
   },
   "id": "e4932a6ebf675313",
   "execution_count": 21
  },
  {
   "cell_type": "code",
   "outputs": [],
   "source": [],
   "metadata": {
    "collapsed": false
   },
   "id": "2a2acb77acfd9108"
  }
 ],
 "metadata": {
  "kernelspec": {
   "display_name": "Python 3",
   "language": "python",
   "name": "python3"
  },
  "language_info": {
   "codemirror_mode": {
    "name": "ipython",
    "version": 2
   },
   "file_extension": ".py",
   "mimetype": "text/x-python",
   "name": "python",
   "nbconvert_exporter": "python",
   "pygments_lexer": "ipython2",
   "version": "2.7.6"
  }
 },
 "nbformat": 4,
 "nbformat_minor": 5
}
