{
 "cells": [
  {
   "metadata": {
    "ExecuteTime": {
     "end_time": "2024-06-11T09:01:07.710005Z",
     "start_time": "2024-06-11T09:01:07.699589Z"
    }
   },
   "cell_type": "code",
   "source": [
    "import torch\n",
    "\n",
    "# 定义非零元素的位置和值\n",
    "indices = torch.tensor([[0, 1, 1],\n",
    "                        [2, 0, 2]])\n",
    "values = torch.tensor([3, 4, 5], dtype=torch.float32)\n",
    "\n",
    "# 创建稀疏张量\n",
    "sparse_tensor = torch.sparse_coo_tensor(indices, values, [2, 3])\n",
    "print(\"Sparse Tensor:\")\n",
    "print(sparse_tensor)\n",
    "\n",
    "# 转换为稠密张量\n",
    "dense_tensor = sparse_tensor.to_dense()\n",
    "print(\"\\nDense Tensor:\")\n",
    "print(dense_tensor)\n",
    "\n",
    "# 矩阵相乘\n",
    "dense_tensor = torch.tensor([[1, 2, 3],\n",
    "                             [4, 5, 6]], dtype=torch.float32)\n",
    "result = torch.sparse.mm(sparse_tensor, dense_tensor.t())\n",
    "print(sparse_tensor.shape, dense_tensor.shape, dense_tensor.T.shape)\n",
    "print(\"\\nMatrix Multiplication Result:\")\n",
    "print(result)\n",
    "\n",
    "# 稀疏矩阵与稠密矩阵相加\n",
    "dense_tensor = torch.tensor([[0, 0, 0],\n",
    "                             [1, 2, 3]], dtype=torch.float32)\n",
    "result = sparse_tensor.to_dense() + dense_tensor\n",
    "print(\"\\nAddition Result:\")\n",
    "print(result)\n",
    "\n",
    "# 检查稀疏性\n",
    "is_sparse = sparse_tensor.is_sparse\n",
    "print(f\"\\nIs the tensor sparse? {is_sparse}\")\n",
    "\n",
    "# 获取稀疏张量的索引和值\n",
    "indices = sparse_tensor._indices()\n",
    "values = sparse_tensor._values()\n",
    "print(f\"\\nIndices:\\n{indices}\")\n",
    "print(f\"Values:\\n{values}\")\n",
    "\n",
    "# 邻接矩阵的稀疏表示\n",
    "indices = torch.tensor([[0, 0, 1, 2],\n",
    "                        [1, 2, 2, 0]])\n",
    "values = torch.tensor([1, 1, 1, 1], dtype=torch.float32)\n",
    "adjacency_matrix = torch.sparse_coo_tensor(indices, values, (3, 3))\n",
    "\n",
    "# 节点特征矩阵\n",
    "features = torch.tensor([[1, 2],\n",
    "                         [3, 4],\n",
    "                         [5, 6]], dtype=torch.float32)\n",
    "\n",
    "# 图卷积操作\n",
    "weights = torch.tensor([[0.1, 0.2, 0.5],\n",
    "                        [0.3, 0.4, 0.6]], dtype=torch.float32)\n",
    "\n",
    "print(adjacency_matrix.shape, features.shape, weights.shape)\n",
    "output = torch.sparse.mm(adjacency_matrix, features).mm(weights)\n",
    "print(\"\\nGraph Convolution Output:\")\n",
    "print(output)"
   ],
   "id": "72f0cdf68fb608fe",
   "outputs": [
    {
     "name": "stdout",
     "output_type": "stream",
     "text": [
      "Sparse Tensor:\n",
      "tensor(indices=tensor([[0, 1, 1],\n",
      "                       [2, 0, 2]]),\n",
      "       values=tensor([3., 4., 5.]),\n",
      "       size=(2, 3), nnz=3, layout=torch.sparse_coo)\n",
      "\n",
      "Dense Tensor:\n",
      "tensor([[0., 0., 3.],\n",
      "        [4., 0., 5.]])\n",
      "torch.Size([2, 3]) torch.Size([2, 3]) torch.Size([3, 2])\n",
      "\n",
      "Matrix Multiplication Result:\n",
      "tensor([[ 9., 18.],\n",
      "        [19., 46.]])\n",
      "\n",
      "Addition Result:\n",
      "tensor([[0., 0., 3.],\n",
      "        [5., 2., 8.]])\n",
      "\n",
      "Is the tensor sparse? True\n",
      "\n",
      "Indices:\n",
      "tensor([[0, 1, 1],\n",
      "        [2, 0, 2]])\n",
      "Values:\n",
      "tensor([3., 4., 5.])\n",
      "torch.Size([3, 3]) torch.Size([3, 2]) torch.Size([2, 3])\n",
      "\n",
      "Graph Convolution Output:\n",
      "tensor([[ 3.8000,  5.6000, 10.0000],\n",
      "        [ 2.3000,  3.4000,  6.1000],\n",
      "        [ 0.7000,  1.0000,  1.7000]])\n"
     ]
    }
   ],
   "execution_count": 61
  },
  {
   "metadata": {},
   "cell_type": "code",
   "outputs": [],
   "execution_count": null,
   "source": "",
   "id": "d52c3253cb44a6a8"
  }
 ],
 "metadata": {
  "kernelspec": {
   "display_name": "Python 3",
   "language": "python",
   "name": "python3"
  },
  "language_info": {
   "codemirror_mode": {
    "name": "ipython",
    "version": 2
   },
   "file_extension": ".py",
   "mimetype": "text/x-python",
   "name": "python",
   "nbconvert_exporter": "python",
   "pygments_lexer": "ipython2",
   "version": "2.7.6"
  }
 },
 "nbformat": 4,
 "nbformat_minor": 5
}
